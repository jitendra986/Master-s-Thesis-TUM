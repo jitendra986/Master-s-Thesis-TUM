{
 "cells": [
  {
   "cell_type": "code",
   "execution_count": 1,
   "metadata": {
    "id": "QfpzPSgG-If3"
   },
   "outputs": [
    {
     "name": "stderr",
     "output_type": "stream",
     "text": [
      "C:\\Users\\anton\\AppData\\Roaming\\Python\\Python37\\site-packages\\setuptools\\_importlib.py:42: SetuptoolsWarning: Incompatibility problem.\n",
      "!!\n",
      "\n",
      "        ********************************************************************************\n",
      "        `importlib-metadata` version is incompatible with `setuptools`.\n",
      "        This problem is likely to be solved by installing an updated version of\n",
      "        `importlib-metadata`.\n",
      "\n",
      "        See https://github.com/python/importlib_metadata/issues/396 for details.\n",
      "        ********************************************************************************\n",
      "\n",
      "!!\n",
      "  disable_importlib_metadata_finder(metadata)\n"
     ]
    }
   ],
   "source": [
    "import pandas as pd\n",
    "import numpy as np\n",
    "import matplotlib.pyplot as plt\n",
    "import os\n",
    "\n",
    "from sklearn import tree\n",
    "from sklearn import preprocessing\n",
    "from sklearn.decomposition import PCA, TruncatedSVD\n",
    "from sklearn.metrics import confusion_matrix, recall_score, precision_score\n",
    "from sklearn.preprocessing import MinMaxScaler, MaxAbsScaler, Normalizer\n",
    "\n",
    "%matplotlib inline"
   ]
  },
  {
   "cell_type": "markdown",
   "metadata": {
    "id": "EilFg--x-ety"
   },
   "source": [
    "## Data Ingestion"
   ]
  },
  {
   "cell_type": "code",
   "execution_count": 2,
   "metadata": {},
   "outputs": [],
   "source": [
    "def readDataset(dset=1):\n",
    "\n",
    "    # Read data file\n",
    "\n",
    "    dtype='train'\n",
    "    file_name = '{}_FD00{}.txt'.format(dtype, str(dset))\n",
    "    columns = ['unit', 'cycle', 'os1', 'os2', 'os3'] + ['sm{}'.format(j+1) for j in range(23)]\n",
    "    \n",
    "    data = pd.read_csv('./CMAPSSData/{}'.format(file_name), delimiter=' ', names=columns)\n",
    "    \n",
    "        \n",
    "    # Remove the last two columns\n",
    "    \n",
    "    data.drop(data.columns[[26, 27]], axis=1, inplace=True)\n",
    "    \n",
    "    \n",
    "    # Calculate end-of-life cycles for each unit\n",
    "    \n",
    "    eol_cycles = pd.DataFrame(data.groupby('unit')['cycle'].max()).reset_index()\n",
    "    eol_cycles.columns = ['unit', 'eol_cycles']\n",
    "    \n",
    "    \n",
    "    # Calculate Remaining Useful Life (RUL) for each unit at each cycle\n",
    "\n",
    "    data = data.merge(eol_cycles, on=['unit'], how='left')\n",
    "    data['RUL'] = data['eol_cycles'] - data['cycle']\n",
    "    data.drop('eol_cycles', axis=1, inplace=True)\n",
    "    \n",
    "\n",
    "    # Create label columns\n",
    "    w = 10\n",
    "    data['L1'] = np.where(data['RUL'] < w, 1, 0)\n",
    "\n",
    "    return data\n"
   ]
  },
  {
   "cell_type": "code",
   "execution_count": 3,
   "metadata": {},
   "outputs": [],
   "source": [
    "data = readDataset(dset=1)\n",
    "# data"
   ]
  },
  {
   "cell_type": "markdown",
   "metadata": {},
   "source": [
    "## Data Preprocessing"
   ]
  },
  {
   "cell_type": "code",
   "execution_count": 4,
   "metadata": {},
   "outputs": [],
   "source": [
    "smoothing_window = 5\n",
    "data_smoothed = data.copy()\n",
    "\n",
    "for unit in np.arange(1, 101, 1):\n",
    "    for channel in np.arange(1, 22, 1): #measurement_channels:\n",
    "        smoothed_data = data.loc[data['unit'] == unit, 'sm{}'.format(channel)].rolling(smoothing_window).sum()/smoothing_window\n",
    "        data_smoothed.loc[data_smoothed['unit'] == unit, 'sm{}'.format(channel)] = smoothed_data\n",
    "        \n",
    "data_smoothed = data_smoothed.dropna()"
   ]
  },
  {
   "cell_type": "markdown",
   "metadata": {},
   "source": [
    "## Split data into training and validation sets"
   ]
  },
  {
   "cell_type": "code",
   "execution_count": 5,
   "metadata": {},
   "outputs": [],
   "source": [
    "# measurement_channels = [11, 14]\n",
    "# # measurement_channels = [7, 11, 14]\n",
    "# # measurement_channels = [7, 11, 12, 13, 14]\n",
    "# training_units = np.arange(1, 81, 1)\n",
    "# validation_units = np.array(list(set(np.arange(1, 101, 1)).difference(training_units)))\n",
    "# data_shift = 1 # Change this for data_shift-step ahead prediction\n",
    "\n",
    "# training_data = data_smoothed.loc[data_smoothed['unit'].isin(training_units)]\n",
    "# validation_data = data_smoothed.loc[~data_smoothed['unit'].isin(training_units)]"
   ]
  },
  {
   "cell_type": "code",
   "execution_count": 6,
   "metadata": {},
   "outputs": [
    {
     "name": "stdout",
     "output_type": "stream",
     "text": [
      "Number of mislabeled points in the training set: 270/15818 (1.71%)\n",
      "\n",
      "Number of mislabeled points in the validation set: 95/4413 (2.15%)\n"
     ]
    }
   ],
   "source": [
    "measurement_channels = [7, 11, 14]\n",
    "\n",
    "training_units = np.arange(1, 81, 1)\n",
    "validation_units = np.array(list(set(np.arange(1, 101, 1)).difference(training_units)))\n",
    "\n",
    "data_shift = 1 # Change this for N-step ahead prediction\n",
    "\n",
    "\n",
    "def sliceData(data, channels, units):\n",
    "    \n",
    "    \"\"\"\n",
    "    Get a slice of the data set corresponding to specific channels and units.\n",
    "    \n",
    "    Parameters\n",
    "    ----------\n",
    "    data: pandas.DataFrame\n",
    "        The data to be sliced.\n",
    "    channels: list, tuple or ndarray\n",
    "        The list of channels to be sliced.\n",
    "    units: list, tuple of ndarray\n",
    "        The list of units to be sliced.\n",
    "        \n",
    "    Returns\n",
    "    -------\n",
    "    X, Y: pandas.DataFrame\n",
    "        The sliced input and output data sets.\n",
    "    \"\"\"\n",
    "\n",
    "    sliced_data = data.loc[data['unit'].isin(units)]\n",
    "    X = sliced_data[['sm{}'.format(j) for j in channels]]\n",
    "    Y = sliced_data['L1']\n",
    "    \n",
    "    return X, Y\n",
    "\n",
    "\n",
    "def shiftData(X, Y, shift):\n",
    "\n",
    "    \"\"\"\n",
    "    Shift input and output data for N-step ahead predictions.\n",
    "    \n",
    "    Parameters\n",
    "    ----------\n",
    "    X, Y: pandas.DataFrame\n",
    "        The input and output data sets.\n",
    "    shift: int\n",
    "        The number of shifts\n",
    "    \"\"\"\n",
    "\n",
    "    X = X[:-shift].to_numpy()\n",
    "    Y = Y[shift:].to_numpy()\n",
    "    \n",
    "    rows_to_delete = np.where(Y == 1)[0][:-1] + data_shift\n",
    "    X = np.delete(X, rows_to_delete, axis=0)\n",
    "    Y = np.delete(Y, rows_to_delete)\n",
    "    \n",
    "    return X, Y\n",
    "\n",
    "\n",
    "training_data = data_smoothed.loc[data_smoothed['unit'].isin(training_units)]\n",
    "validation_data = data_smoothed.loc[~data_smoothed['unit'].isin(training_units)]\n",
    "\n",
    "X_training, Y_training = sliceData(data_smoothed, measurement_channels, training_units)\n",
    "X_validation, Y_validation = sliceData(data_smoothed, measurement_channels, validation_units)\n",
    "\n",
    "transformer = MinMaxScaler().fit(X_training)\n",
    "# transformer = MaxAbsScaler().fit(X_training)\n",
    "X_training = transformer.transform(X_training)\n",
    "X_validation = transformer.transform(X_validation)\n",
    "\n",
    "\n",
    "# Train and evaluate the model using the training set\n",
    "\n",
    "# dtc = tree.DecisionTreeClassifier(criterion='entropy', random_state=0, max_depth=25)\n",
    "# dtc = tree.DecisionTreeClassifier(criterion='entropy', max_depth=1)\n",
    "# dtc = tree.DecisionTreeClassifier(criterion='entropy', max_depth=6)\n",
    "dtc = tree.DecisionTreeClassifier(max_depth=4)\n",
    "Y_predicted = dtc.fit(X_training, Y_training).predict(X_training)\n",
    "\n",
    "total = X_training.shape[0]\n",
    "mislabeled = (Y_training != Y_predicted).sum()\n",
    "message = 'Number of mislabeled points in the training set: {}/{} ({:.2f}%)\\n'\n",
    "print(message.format(mislabeled, total, mislabeled/total*100))\n",
    "\n",
    "# Evaluate the model using the validation set\n",
    "\n",
    "Y_predicted = dtc.predict(X_validation)\n",
    "\n",
    "total = X_validation.shape[0]\n",
    "mislabeled = (Y_validation != Y_predicted).sum()\n",
    "message = 'Number of mislabeled points in the validation set: {}/{} ({:.2f}%)'\n",
    "print(message.format(mislabeled, total, mislabeled/total*100))"
   ]
  },
  {
   "cell_type": "markdown",
   "metadata": {},
   "source": [
    "### Model evaluation using raw data"
   ]
  },
  {
   "cell_type": "code",
   "execution_count": 7,
   "metadata": {},
   "outputs": [
    {
     "name": "stderr",
     "output_type": "stream",
     "text": [
      "C:\\ProgramData\\Anaconda3\\lib\\site-packages\\sklearn\\base.py:451: UserWarning: X does not have valid feature names, but MinMaxScaler was fitted with feature names\n",
      "  \"X does not have valid feature names, but\"\n"
     ]
    },
    {
     "data": {
      "image/png": "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\n",
      "text/plain": [
       "<Figure size 936x288 with 1 Axes>"
      ]
     },
     "metadata": {
      "needs_background": "light"
     },
     "output_type": "display_data"
    }
   ],
   "source": [
    "unit = 83\n",
    "\n",
    "X = validation_data[['sm{}'.format(j) for j in measurement_channels]].loc[validation_data['unit'] == unit].to_numpy()\n",
    "X = transformer.transform(X)\n",
    "Y = validation_data['L1'].loc[validation_data['unit'] == unit].to_numpy()\n",
    "\n",
    "# For data shifting in order to perform data_shift-step ahead prediction\n",
    "# {\n",
    "# X = X[:-data_shift]\n",
    "# Y = Y[data_shift:]\n",
    "\n",
    "# rows_to_delete = np.where(Y == 1)[0][:-1] + data_shift\n",
    "\n",
    "# X = np.delete(X, rows_to_delete, axis=0)\n",
    "# Y = np.delete(Y, rows_to_delete)\n",
    "# }\n",
    "\n",
    "\n",
    "Y_predicted = dtc.predict(X)\n",
    "Y_probability = dtc.predict_proba(X)\n",
    "\n",
    "Y_probability_failure = Y_probability[:, 1]\n",
    "\n",
    "\n",
    "plt.figure(figsize=(13, 4))\n",
    "\n",
    "plt.plot(Y_probability_failure)\n",
    "plt.xlabel('Loading cycle')\n",
    "plt.ylabel('Probability')\n",
    "\n",
    "plt.tight_layout()"
   ]
  },
  {
   "cell_type": "code",
   "execution_count": null,
   "metadata": {},
   "outputs": [],
   "source": []
  }
 ],
 "metadata": {
  "accelerator": "GPU",
  "colab": {
   "collapsed_sections": [
    "4BsYPkY7gYGx",
    "ElhakcHtnX9J"
   ],
   "name": "Predictive-Maintenance-using-LSTM.ipynb",
   "provenance": [],
   "toc_visible": true
  },
  "kernelspec": {
<<<<<<< HEAD
   "display_name": "Python 3",
=======
   "display_name": "Python 3 (ipykernel)",
>>>>>>> 12093a1 (Second Commit)
   "language": "python",
   "name": "python3"
  },
  "language_info": {
   "codemirror_mode": {
    "name": "ipython",
    "version": 3
   },
   "file_extension": ".py",
   "mimetype": "text/x-python",
   "name": "python",
   "nbconvert_exporter": "python",
   "pygments_lexer": "ipython3",
<<<<<<< HEAD
   "version": "3.7.3"
=======
   "version": "3.10.4"
>>>>>>> 12093a1 (Second Commit)
  }
 },
 "nbformat": 4,
 "nbformat_minor": 1
}
